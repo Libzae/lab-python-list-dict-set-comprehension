{
 "cells": [
  {
   "cell_type": "markdown",
   "id": "25d7736c-ba17-4aff-b6bb-66eba20fbf4e",
   "metadata": {},
   "source": [
    "# Lab | List, Dict and Set Comprehension"
   ]
  },
  {
   "cell_type": "markdown",
   "id": "7dd3cbde-675a-4b81-92c3-f728846dbe06",
   "metadata": {},
   "source": [
    "## Exercise: Managing Customer Orders Optimized with Comprehension"
   ]
  },
  {
   "cell_type": "markdown",
   "id": "5d500160-2fb7-4777-b5e4-09d45ebaf328",
   "metadata": {},
   "source": [
    "In the previous exercise, you developed a program to manage customer orders and inventory. Now, let's take it a step further and incorporate comprehension into your code.\n",
    "\n",
    "Follow the steps below to complete the exercise:\n",
    "\n",
    "1. Review your code from the previous exercise and identify areas where you can apply comprehension to simplify and streamline your code. \n",
    "\n",
    "    - *Hint: Apply it to initialize inventory, updating the inventory and printing the updated inventory.*\n",
    "    \n",
    "    - For example, in initializing the inventory, we could have:\n",
    "    \n",
    "        ```python\n",
    "        def initialize_inventory(products):\n",
    "            inventory = {product: int(input(f\"Enter the quantity of {product}s available: \")) for product in products}\n",
    "            return inventory\n",
    "\n",
    "        ```\n",
    "<br>\n",
    "    \n",
    "    \n",
    "2. Modify the function get_customer_orders so it prompts the user to enter the number of customer orders and gathers the product names using a loop and user input. Use comprehension.\n",
    "\n",
    "3. Add a new function to calculate the total price of the customer order. For each product in customer_orders, prompt the user to enter the price of that product. Use comprehension to calculate the total price. Note: assume that the user can only have 1 unit of each product.\n",
    "\n",
    "4. Modify the update_inventory function to remove the product from the inventory if its quantity becomes zero after fulfilling the customer orders. Use comprehension to filter out the products with a quantity of zero from the inventory.\n",
    "\n",
    "5. Print the total price of the customer order.\n",
    "\n",
    "Your code should produce output similar to the following:\n",
    "\n",
    "```python\n",
    "Enter the quantity of t-shirts available:  5\n",
    "Enter the quantity of mugs available:  4\n",
    "Enter the quantity of hats available:  3\n",
    "Enter the quantity of books available:  2\n",
    "Enter the quantity of keychains available:  1\n",
    "Enter the number of customer orders:  2\n",
    "Enter the name of a product that a customer wants to order:  hat\n",
    "Enter the name of a product that a customer wants to order:  keychain\n",
    "\n",
    "Order Statistics:\n",
    "Total Products Ordered: 2\n",
    "Percentage of Unique Products Ordered: 40.0\n",
    "\n",
    "Updated Inventory:\n",
    "t-shirt: 5\n",
    "mug: 4\n",
    "hat: 2\n",
    "book: 2\n",
    "Enter the price of keychain:  5\n",
    "Enter the price of hat:  10\n",
    "Total Price: 15.0\n",
    "\n",
    "```\n"
   ]
  },
  {
   "cell_type": "code",
   "execution_count": 1,
   "id": "d5247f39-1de0-41ac-bf92-1a9641163f9e",
   "metadata": {},
   "outputs": [
    {
     "name": "stdout",
     "output_type": "stream",
     "text": [
      "{'t-shirt': 25, 'mug': 30, 'hat': 15, 'book': 20, 'keychain': 10}\n"
     ]
    }
   ],
   "source": [
    "product = ['t-shirt', 'mug', 'hat', 'book', 'keychain']\n",
    "quantity = [25, 30, 15, 20, 10]\n",
    "inventory = {prod: qty for prod, qty in zip(product, quantity)}\n",
    "print(inventory)"
   ]
  },
  {
   "cell_type": "code",
   "execution_count": 3,
   "id": "04373292-d989-4693-bd6a-98eb5ee6ce1c",
   "metadata": {},
   "outputs": [
    {
     "name": "stdin",
     "output_type": "stream",
     "text": [
      "Enter the quantity of t-shirts available:  2\n",
      "Enter the quantity of mugs available:  5\n",
      "Enter the quantity of hats available:  6\n",
      "Enter the quantity of books available:  7\n",
      "Enter the quantity of keychains available:  8\n",
      "Enter the number of customer orders:  9\n",
      "Enter the name of a product that a customer wants to order:  book\n",
      "Enter the name of a product that a customer wants to order:  hat\n",
      "Enter the name of a product that a customer wants to order:  mug\n",
      "Enter the name of a product that a customer wants to order:  hat\n",
      "Enter the name of a product that a customer wants to order:  t-shirt\n",
      "Enter the name of a product that a customer wants to order:  t-shirt\n",
      "Enter the name of a product that a customer wants to order:  hat\n",
      "Enter the name of a product that a customer wants to order:  t-shirt\n",
      "Enter the name of a product that a customer wants to order:  hat\n"
     ]
    },
    {
     "name": "stdout",
     "output_type": "stream",
     "text": [
      "\n",
      "Order Statistics:\n",
      "Total Products Ordered: 8\n",
      "Percentage of Unique Products Ordered: 80.0%\n",
      "\n",
      "Updated Inventory:\n",
      "t-shirt: 0\n",
      "mug: 4\n",
      "hat: 2\n",
      "book: 6\n",
      "keychain: 8\n"
     ]
    },
    {
     "name": "stdin",
     "output_type": "stream",
     "text": [
      "Enter the price of book:  2\n",
      "Enter the price of mug:  3\n",
      "Enter the price of t-shirt:  5\n",
      "Enter the price of hat:  5\n"
     ]
    },
    {
     "name": "stdout",
     "output_type": "stream",
     "text": [
      "Total Price: 15.0\n"
     ]
    }
   ],
   "source": [
    "def main():\n",
    "    # Initialize the inventory dictionary with user input\n",
    "    products = ['t-shirt', 'mug', 'hat', 'book', 'keychain']\n",
    "    inventory = {product: int(input(f\"Enter the quantity of {product}s available: \")) for product in products}\n",
    "    \n",
    "    # Get number of customer orders\n",
    "    num_orders = int(input(\"Enter the number of customer orders: \"))\n",
    "    \n",
    "    # List to store customer orders\n",
    "    customer_orders = []\n",
    "    \n",
    "    # Get product names that customers want to order\n",
    "    for _ in range(num_orders):\n",
    "        ordered_product = input(\"Enter the name of a product that a customer wants to order: \").lower()\n",
    "        if ordered_product in inventory and inventory[ordered_product] > 0:\n",
    "            customer_orders.append(ordered_product)\n",
    "            inventory[ordered_product] -= 1  # Update inventory\n",
    "\n",
    "    # Calculate order statistics\n",
    "    unique_products_ordered = len(set(customer_orders))\n",
    "    total_products_ordered = len(customer_orders)\n",
    "    percentage_of_unique_products_ordered = (unique_products_ordered / len(products)) * 100\n",
    "\n",
    "    # Output order statistics\n",
    "    print(\"\\nOrder Statistics:\")\n",
    "    print(f\"Total Products Ordered: {total_products_ordered}\")\n",
    "    print(f\"Percentage of Unique Products Ordered: {percentage_of_unique_products_ordered:.1f}%\\n\")\n",
    "\n",
    "    # Output updated inventory\n",
    "    print(\"Updated Inventory:\")\n",
    "    for product, quantity in inventory.items():\n",
    "        print(f\"{product}: {quantity}\")\n",
    "\n",
    "    # Collect prices and calculate total price\n",
    "    total_price = 0\n",
    "    for product in set(customer_orders):  # Only unique products that were ordered\n",
    "        price = float(input(f\"Enter the price of {product}: \"))\n",
    "        total_price += price\n",
    "\n",
    "    # Output total price\n",
    "    print(f\"Total Price: {total_price:.1f}\")\n",
    "\n",
    "if __name__ == \"__main__\":\n",
    "    main()\n"
   ]
  },
  {
   "cell_type": "code",
   "execution_count": null,
   "id": "454dbb2a-3d63-4dfa-baee-401c7bc293d3",
   "metadata": {},
   "outputs": [],
   "source": [
    "#3 Add a new function to calculate the total price of the customer order. \n",
    "#For each product in customer_orders, prompt the user to enter the price of that product. \n",
    "#Use comprehension to calculate the total price. Note: assume that the user can only have 1 unit of each product."
   ]
  },
  {
   "cell_type": "code",
   "execution_count": 5,
   "id": "8b911617-1054-4524-ac18-257065e7e02f",
   "metadata": {},
   "outputs": [],
   "source": [
    "def calculate_total_price(customer_orders):\n",
    "    \"\"\"\n",
    "    Calcula el precio total del pedido del cliente.\n",
    "    \n",
    "    Parámetros:\n",
    "    - customer_orders (list): Lista de productos ordenados por el cliente.\n",
    "\n",
    "    Retorna:\n",
    "    - float: El precio total de los productos ordenados.\n",
    "    \"\"\"\n",
    "    # Solicitar el precio para cada producto y sumar todos los precios\n",
    "    total_price = sum(float(input(f\"Enter the price of {product}: \")) for product_id in customer_orders)\n",
    "\n",
    "    return total_price"
   ]
  },
  {
   "cell_type": "code",
   "execution_count": 7,
   "id": "8d4be3d8-d62c-48ed-8cd5-fdacd2d66c21",
   "metadata": {},
   "outputs": [
    {
     "name": "stdin",
     "output_type": "stream",
     "text": [
      "Enter the quantity of t-shirts available:  2\n",
      "Enter the quantity of mugs available:  5\n",
      "Enter the quantity of hats available:  2\n",
      "Enter the quantity of books available:  1\n",
      "Enter the quantity of keychains available:  5\n",
      "Enter the number of customer orders:  5\n",
      "Enter the name of a product that a customer wants to order:  hat\n",
      "Enter the name of a product that a customer wants to order:  mug\n",
      "Enter the name of a product that a customer wants to order:  hat\n",
      "Enter the name of a product that a customer wants to order:  book\n",
      "Enter the name of a product that a customer wants to order:  hat\n",
      "Enter the price of ['t-shirt', 'mug', 'hat', 'book', 'keychain']:  4\n",
      "Enter the price of ['t-shirt', 'mug', 'hat', 'book', 'keychain']:  5\n",
      "Enter the price of ['t-shirt', 'mug', 'hat', 'book', 'keychain']:  2\n",
      "Enter the price of ['t-shirt', 'mug', 'hat', 'book', 'keychain']:  3\n"
     ]
    },
    {
     "name": "stdout",
     "output_type": "stream",
     "text": [
      "Total Price: 14.00\n"
     ]
    }
   ],
   "source": [
    "#Paso 2: Llamar a la Nueva Función desde main\n",
    "#Ahora, desde la función main, solo tienes que llamar a esta nueva función calculate_total_price pasando la lista customer_orders como argumento:\n",
    "\n",
    "def main():\n",
    "    # Inicializar el inventario y las órdenes de los clientes\n",
    "    products = ['t-shirt', 'mug', 'hat', 'book', 'keychain']\n",
    "    inventory = {product: int(input(f\"Enter the quantity of {product}s available: \")) for product in products}\n",
    "    \n",
    "    num_orders = int(input(\"Enter the number of customer orders: \"))\n",
    "    customer_orders = []\n",
    "\n",
    "    # Recolectar los productos que los clientes quieren ordenar\n",
    "    for _ in range(num_orders):\n",
    "        ordered_product = input(\"Enter the name of a product that a customer wants to order: \").lower()\n",
    "        if ordered_product in inventory and inventory[ordered_product] > 0:\n",
    "            customer_orders.append(ordered_product)\n",
    "            inventory[ordered_product] -= 1  # Actualizar inventario\n",
    "\n",
    "    # Calcular el precio total\n",
    "    total_price = calculate_total_price(customer_orders)\n",
    "    \n",
    "    # Mostrar el precio total\n",
    "    print(f\"Total Price: {total_price:.2f}\")\n",
    "\n",
    "if __name__ == \"__main__\":\n",
    "    main()"
   ]
  },
  {
   "cell_type": "code",
   "execution_count": 9,
   "id": "bdfc1278-3fb4-4170-aff8-b5014b4b4709",
   "metadata": {},
   "outputs": [
    {
     "name": "stdout",
     "output_type": "stream",
     "text": [
      "{'t-shirt': 9, 'mug': 5, 'book': 3}\n"
     ]
    }
   ],
   "source": [
    "\n",
    "#4. Modify the update_inventory function to remove the product from the inventory if its quantity becomes zero after fulfilling the customer orders. \n",
    "#Use comprehension to filter out the products with a quantity of zero from the inventory.\n",
    "\n",
    "def update_inventory(inventory, customer_orders):\n",
    "    \"\"\"\n",
    "    Actualiza el inventario después de cumplir los pedidos de los clientes.\n",
    "    Elimina los productos del inventario si su cantidad llega a cero.\n",
    "    \n",
    "    Parámetros:\n",
    "    - inventory (dict): El inventario actual, con productos como claves y cantidades como valores.\n",
    "    - customer_orders (list): Los productos ordenados por los clientes.\n",
    "    \"\"\"\n",
    "    \n",
    "    # Actualizar la cantidad de cada producto basado en los pedidos de los clientes\n",
    "    for ordered_product in customer_orders:\n",
    "        if ordered_product in inventory and inventory[ordered_product] > 0:\n",
    "            inventory[ordered_product] -= 1 #esto reduce -1 el inventory dependiendodel producto\n",
    "    \n",
    "    # Filtrar los productos que tienen cantidad cero\n",
    "    inventory = {product: quantity for product, quantity in inventory.items() if quantity > 0}\n",
    "    \n",
    "    return inventory\n",
    "\n",
    "# Ejemplo de uso\n",
    "products = {'t-shirt': 10, 'mug': 5, 'hat': 0, 'book': 4, 'keychain': 3}\n",
    "customer_orders = ['t-shirt', 'book', 'keychain', 'keychain', 'keychain', 'keychain']\n",
    "\n",
    "updated_inventory = update_inventory(products, customer_orders)\n",
    "print(updated_inventory)"
   ]
  },
  {
   "cell_type": "code",
   "execution_count": 11,
   "id": "26c27585-b5d4-4330-b013-f88648d655b2",
   "metadata": {},
   "outputs": [
    {
     "ename": "NameError",
     "evalue": "name 'inventory_prices' is not defined",
     "output_type": "error",
     "traceback": [
      "\u001b[1;31m---------------------------------------------------------------------------\u001b[0m",
      "\u001b[1;31mNameError\u001b[0m                                 Traceback (most recent call last)",
      "Cell \u001b[1;32mIn[11], line 14\u001b[0m\n\u001b[0;32m     11\u001b[0m     \u001b[38;5;28mprint\u001b[39m(\u001b[38;5;124mf\u001b[39m\u001b[38;5;124m\"\u001b[39m\u001b[38;5;124mTotal Price of the Customer Order: $\u001b[39m\u001b[38;5;132;01m{\u001b[39;00mtotal_price\u001b[38;5;132;01m:\u001b[39;00m\u001b[38;5;124m.2f\u001b[39m\u001b[38;5;132;01m}\u001b[39;00m\u001b[38;5;124m\"\u001b[39m)\n\u001b[0;32m     13\u001b[0m \u001b[38;5;66;03m# Ejemplo de uso de la función\u001b[39;00m\n\u001b[1;32m---> 14\u001b[0m calculate_and_print_total_order_price(inventory_prices, customer_order)\n",
      "\u001b[1;31mNameError\u001b[0m: name 'inventory_prices' is not defined"
     ]
    }
   ],
   "source": [
    "def calculate_and_print_total_order_price(inventory_prices, customer_order):\n",
    "    \"\"\"\n",
    "    Calcula y imprime el precio total del pedido de un cliente.\n",
    "    \n",
    "    Parámetros:\n",
    "    - inventory_prices (dict): Un diccionario que mapea los productos a sus precios.\n",
    "    - customer_order (list): Una lista de los productos ordenados por el cliente.\n",
    "    \"\"\"\n",
    "    total_price = sum(inventory_prices[product] for product in customer_order if product in inventory_prices)\n",
    "    \n",
    "    print(f\"Total Price of the Customer Order: ${total_price:.2f}\")\n",
    "\n",
    "# Ejemplo de uso de la función\n",
    "calculate_and_print_total_order_price(inventory_prices, customer_order)"
   ]
  },
  {
   "cell_type": "code",
   "execution_count": null,
   "id": "2f7391ee-403e-4349-b107-74a9a492bba9",
   "metadata": {},
   "outputs": [],
   "source": []
  }
 ],
 "metadata": {
  "kernelspec": {
   "display_name": "Python 3 (ipykernel)",
   "language": "python",
   "name": "python3"
  },
  "language_info": {
   "codemirror_mode": {
    "name": "ipython",
    "version": 3
   },
   "file_extension": ".py",
   "mimetype": "text/x-python",
   "name": "python",
   "nbconvert_exporter": "python",
   "pygments_lexer": "ipython3",
   "version": "3.12.7"
  }
 },
 "nbformat": 4,
 "nbformat_minor": 5
}
